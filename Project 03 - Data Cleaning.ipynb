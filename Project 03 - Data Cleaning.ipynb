{
 "cells": [
  {
   "cell_type": "markdown",
   "id": "86dcd30c-f6b6-4f31-8369-d9f974c87405",
   "metadata": {},
   "source": [
    "# Project 6"
   ]
  },
  {
   "cell_type": "markdown",
   "id": "a29af8e0-e8e1-4d2d-8f54-196a47e55f66",
   "metadata": {},
   "source": [
    "## -- Data Cleaning --"
   ]
  },
  {
   "cell_type": "markdown",
   "id": "ef3524cb-309f-46b8-b702-40541d318285",
   "metadata": {},
   "source": [
    "### By: Carly Marshanda Arta MS"
   ]
  },
  {
   "cell_type": "code",
   "execution_count": 16,
   "id": "7f10ff53-7e07-4ad3-ae50-515f84a6545c",
   "metadata": {},
   "outputs": [],
   "source": [
    "import pandas as pd\n",
    "import numpy as np\n",
    "from scipy import stats\n",
    "from sklearn.impute import KNNImputer\n",
    "from scipy.stats import boxcox\n",
    "import matplotlib.pyplot as plt"
   ]
  },
  {
   "cell_type": "code",
   "execution_count": 7,
   "id": "1a230d49-9c0a-479e-aa2a-646986de6409",
   "metadata": {},
   "outputs": [
    {
     "data": {
      "text/html": [
       "<div>\n",
       "<style scoped>\n",
       "    .dataframe tbody tr th:only-of-type {\n",
       "        vertical-align: middle;\n",
       "    }\n",
       "\n",
       "    .dataframe tbody tr th {\n",
       "        vertical-align: top;\n",
       "    }\n",
       "\n",
       "    .dataframe thead th {\n",
       "        text-align: right;\n",
       "    }\n",
       "</style>\n",
       "<table border=\"1\" class=\"dataframe\">\n",
       "  <thead>\n",
       "    <tr style=\"text-align: right;\">\n",
       "      <th></th>\n",
       "      <th>PassengerId</th>\n",
       "      <th>Survived</th>\n",
       "      <th>Pclass</th>\n",
       "      <th>Name</th>\n",
       "      <th>Sex</th>\n",
       "      <th>Age</th>\n",
       "      <th>SibSp</th>\n",
       "      <th>Parch</th>\n",
       "      <th>Ticket</th>\n",
       "      <th>Fare</th>\n",
       "      <th>Cabin</th>\n",
       "      <th>Embarked</th>\n",
       "    </tr>\n",
       "  </thead>\n",
       "  <tbody>\n",
       "    <tr>\n",
       "      <th>0</th>\n",
       "      <td>1</td>\n",
       "      <td>0</td>\n",
       "      <td>3</td>\n",
       "      <td>Braund, Mr. Owen Harris</td>\n",
       "      <td>male</td>\n",
       "      <td>22.0</td>\n",
       "      <td>1</td>\n",
       "      <td>0</td>\n",
       "      <td>A/5 21171</td>\n",
       "      <td>7.2500</td>\n",
       "      <td>NaN</td>\n",
       "      <td>S</td>\n",
       "    </tr>\n",
       "    <tr>\n",
       "      <th>1</th>\n",
       "      <td>2</td>\n",
       "      <td>1</td>\n",
       "      <td>1</td>\n",
       "      <td>Cumings, Mrs. John Bradley (Florence Briggs Th...</td>\n",
       "      <td>female</td>\n",
       "      <td>38.0</td>\n",
       "      <td>1</td>\n",
       "      <td>0</td>\n",
       "      <td>PC 17599</td>\n",
       "      <td>71.2833</td>\n",
       "      <td>C85</td>\n",
       "      <td>C</td>\n",
       "    </tr>\n",
       "  </tbody>\n",
       "</table>\n",
       "</div>"
      ],
      "text/plain": [
       "   PassengerId  Survived  Pclass  \\\n",
       "0            1         0       3   \n",
       "1            2         1       1   \n",
       "\n",
       "                                                Name     Sex   Age  SibSp  \\\n",
       "0                            Braund, Mr. Owen Harris    male  22.0      1   \n",
       "1  Cumings, Mrs. John Bradley (Florence Briggs Th...  female  38.0      1   \n",
       "\n",
       "   Parch     Ticket     Fare Cabin Embarked  \n",
       "0      0  A/5 21171   7.2500   NaN        S  \n",
       "1      0   PC 17599  71.2833   C85        C  "
      ]
     },
     "execution_count": 7,
     "metadata": {},
     "output_type": "execute_result"
    }
   ],
   "source": [
    "# Load Dataset\n",
    "\n",
    "df = pd.read_csv('C:/Users/TOSHIBA/Data Analyst/4. Carly Project/Project 6/train.csv')\n",
    "df.head(2)"
   ]
  },
  {
   "cell_type": "code",
   "execution_count": 9,
   "id": "1c057f46-1eee-477c-9810-8c58c8f4923e",
   "metadata": {},
   "outputs": [
    {
     "data": {
      "text/html": [
       "<div>\n",
       "<style scoped>\n",
       "    .dataframe tbody tr th:only-of-type {\n",
       "        vertical-align: middle;\n",
       "    }\n",
       "\n",
       "    .dataframe tbody tr th {\n",
       "        vertical-align: top;\n",
       "    }\n",
       "\n",
       "    .dataframe thead th {\n",
       "        text-align: right;\n",
       "    }\n",
       "</style>\n",
       "<table border=\"1\" class=\"dataframe\">\n",
       "  <thead>\n",
       "    <tr style=\"text-align: right;\">\n",
       "      <th></th>\n",
       "      <th>PassengerId</th>\n",
       "      <th>Survived</th>\n",
       "      <th>Pclass</th>\n",
       "      <th>Name</th>\n",
       "      <th>Sex</th>\n",
       "      <th>Age</th>\n",
       "      <th>SibSp</th>\n",
       "      <th>Parch</th>\n",
       "      <th>Ticket</th>\n",
       "      <th>Fare</th>\n",
       "      <th>Cabin</th>\n",
       "      <th>Embarked</th>\n",
       "    </tr>\n",
       "  </thead>\n",
       "  <tbody>\n",
       "    <tr>\n",
       "      <th>0</th>\n",
       "      <td>1</td>\n",
       "      <td>0</td>\n",
       "      <td>3</td>\n",
       "      <td>Braund, Mr. Owen Harris</td>\n",
       "      <td>male</td>\n",
       "      <td>22.0</td>\n",
       "      <td>1</td>\n",
       "      <td>0</td>\n",
       "      <td>A/5 21171</td>\n",
       "      <td>7.2500</td>\n",
       "      <td>NaN</td>\n",
       "      <td>S</td>\n",
       "    </tr>\n",
       "    <tr>\n",
       "      <th>1</th>\n",
       "      <td>2</td>\n",
       "      <td>1</td>\n",
       "      <td>1</td>\n",
       "      <td>Cumings, Mrs. John Bradley (Florence Briggs Th...</td>\n",
       "      <td>female</td>\n",
       "      <td>38.0</td>\n",
       "      <td>1</td>\n",
       "      <td>0</td>\n",
       "      <td>PC 17599</td>\n",
       "      <td>71.2833</td>\n",
       "      <td>C85</td>\n",
       "      <td>C</td>\n",
       "    </tr>\n",
       "    <tr>\n",
       "      <th>2</th>\n",
       "      <td>3</td>\n",
       "      <td>1</td>\n",
       "      <td>3</td>\n",
       "      <td>Heikkinen, Miss. Laina</td>\n",
       "      <td>female</td>\n",
       "      <td>26.0</td>\n",
       "      <td>0</td>\n",
       "      <td>0</td>\n",
       "      <td>STON/O2. 3101282</td>\n",
       "      <td>7.9250</td>\n",
       "      <td>NaN</td>\n",
       "      <td>S</td>\n",
       "    </tr>\n",
       "    <tr>\n",
       "      <th>3</th>\n",
       "      <td>4</td>\n",
       "      <td>1</td>\n",
       "      <td>1</td>\n",
       "      <td>Futrelle, Mrs. Jacques Heath (Lily May Peel)</td>\n",
       "      <td>female</td>\n",
       "      <td>35.0</td>\n",
       "      <td>1</td>\n",
       "      <td>0</td>\n",
       "      <td>113803</td>\n",
       "      <td>53.1000</td>\n",
       "      <td>C123</td>\n",
       "      <td>S</td>\n",
       "    </tr>\n",
       "    <tr>\n",
       "      <th>4</th>\n",
       "      <td>5</td>\n",
       "      <td>0</td>\n",
       "      <td>3</td>\n",
       "      <td>Allen, Mr. William Henry</td>\n",
       "      <td>male</td>\n",
       "      <td>35.0</td>\n",
       "      <td>0</td>\n",
       "      <td>0</td>\n",
       "      <td>373450</td>\n",
       "      <td>8.0500</td>\n",
       "      <td>NaN</td>\n",
       "      <td>S</td>\n",
       "    </tr>\n",
       "  </tbody>\n",
       "</table>\n",
       "</div>"
      ],
      "text/plain": [
       "   PassengerId  Survived  Pclass  \\\n",
       "0            1         0       3   \n",
       "1            2         1       1   \n",
       "2            3         1       3   \n",
       "3            4         1       1   \n",
       "4            5         0       3   \n",
       "\n",
       "                                                Name     Sex   Age  SibSp  \\\n",
       "0                            Braund, Mr. Owen Harris    male  22.0      1   \n",
       "1  Cumings, Mrs. John Bradley (Florence Briggs Th...  female  38.0      1   \n",
       "2                             Heikkinen, Miss. Laina  female  26.0      0   \n",
       "3       Futrelle, Mrs. Jacques Heath (Lily May Peel)  female  35.0      1   \n",
       "4                           Allen, Mr. William Henry    male  35.0      0   \n",
       "\n",
       "   Parch            Ticket     Fare Cabin Embarked  \n",
       "0      0         A/5 21171   7.2500   NaN        S  \n",
       "1      0          PC 17599  71.2833   C85        C  \n",
       "2      0  STON/O2. 3101282   7.9250   NaN        S  \n",
       "3      0            113803  53.1000  C123        S  \n",
       "4      0            373450   8.0500   NaN        S  "
      ]
     },
     "execution_count": 9,
     "metadata": {},
     "output_type": "execute_result"
    }
   ],
   "source": [
    "# Load Dataset\n",
    "\n",
    "df = pd.read_csv('C:/Users/TOSHIBA/Data Analyst/4. Carly Project/Project 6/train.csv')\n",
    "df.head()"
   ]
  },
  {
   "cell_type": "markdown",
   "id": "3ee695aa-9caf-47b9-8f96-b8eb74417d5b",
   "metadata": {},
   "source": [
    "# Identifying Outliers"
   ]
  },
  {
   "cell_type": "markdown",
   "id": "38b9facb-9be2-479b-a083-fb4f9295f4cd",
   "metadata": {},
   "source": [
    "## A. Identifying Outliers using IQR (Interquartile Range) Method"
   ]
  },
  {
   "cell_type": "markdown",
   "id": "a271e958-f1d4-4feb-a6de-3a0c3f0b1a94",
   "metadata": {},
   "source": [
    "### 1. Calculate Q1 (25th percentile) and Q3 (75th percentile) of the 'Fare' Column"
   ]
  },
  {
   "cell_type": "code",
   "execution_count": 28,
   "id": "e9d0bfda-0956-4259-bac8-86fa762f5435",
   "metadata": {},
   "outputs": [
    {
     "name": "stdout",
     "output_type": "stream",
     "text": [
      "Number of outliers detected: 116\n",
      "Data after removing outliers:\n",
      "(775, 12)\n"
     ]
    }
   ],
   "source": [
    "# Calculate Q1 and Q3\n",
    "Q1 = df['Fare'].quantile(0.25)\n",
    "Q3 = df['Fare'].quantile(0.75)\n",
    "IQR = Q3 - Q1"
   ]
  },
  {
   "cell_type": "markdown",
   "id": "e3b32c13-7242-44f1-9a5d-0f1ad388b9c7",
   "metadata": {},
   "source": [
    "### 2. Compute IQR as the difference between Q3 and Q1"
   ]
  },
  {
   "cell_type": "code",
   "execution_count": 38,
   "id": "fa4bb4de-b484-40e8-bc02-9f65e6728656",
   "metadata": {},
   "outputs": [],
   "source": [
    "# Define lower and upper bounds for outliers\n",
    "lower_bound = Q1 - 1.5 * IQR\n",
    "upper_bound = Q3 + 1.5 * IQR"
   ]
  },
  {
   "cell_type": "markdown",
   "id": "5b88a179-2955-417f-b770-2bfacab88b55",
   "metadata": {},
   "source": [
    "### 3. Define the lower and upper bounds as Q1 - 1.5 * IQR and Q3 + 1.5 * IQR, respectively"
   ]
  },
  {
   "cell_type": "code",
   "execution_count": 42,
   "id": "11021016-515f-4966-9ae9-abd05f6b6165",
   "metadata": {},
   "outputs": [],
   "source": [
    "# Identify outliers\n",
    "outliers = df[(df['Fare'] < lower_bound) | (df['Fare'] > upper_bound)]"
   ]
  },
  {
   "cell_type": "markdown",
   "id": "2587afb6-20f3-46fa-9d41-f9ac21576f2b",
   "metadata": {},
   "source": [
    "### 4. Identify and filter out the data points that lie outside these bounds"
   ]
  },
  {
   "cell_type": "code",
   "execution_count": 44,
   "id": "ba5ff5f6-3410-4eb1-b275-6fac7c72932b",
   "metadata": {},
   "outputs": [
    {
     "name": "stdout",
     "output_type": "stream",
     "text": [
      "Number of outliers detected: 116\n",
      "Data after removing outliers:\n",
      "(775, 12)\n"
     ]
    }
   ],
   "source": [
    "# Filter out the outliers\n",
    "df_filtered = df[(df['Fare'] >= lower_bound) & (df['Fare'] <= upper_bound)]\n",
    "\n",
    "print(\"Number of outliers detected:\", len(outliers))\n",
    "print(\"Data after removing outliers:\")\n",
    "print(df_filtered.shape)"
   ]
  },
  {
   "cell_type": "markdown",
   "id": "aa3ef964-6530-4a9d-bce7-a6ce65d060ba",
   "metadata": {},
   "source": [
    "## B. Identifying Outliers using Z-Score Method"
   ]
  },
  {
   "cell_type": "markdown",
   "id": "4ac88154-a422-41bd-bf80-25905fdaa470",
   "metadata": {},
   "source": [
    "### 1. Calculate the mean and standard deviation of the 'Fare' Column"
   ]
  },
  {
   "cell_type": "code",
   "execution_count": 50,
   "id": "d8791369-2d5c-40c2-a5b8-9ea3373aada7",
   "metadata": {},
   "outputs": [],
   "source": [
    "# Calculate the z-scores of the 'Fare' column\n",
    "\n",
    "df['z_score'] = stats.zscore(df['Fare'])"
   ]
  },
  {
   "cell_type": "markdown",
   "id": "cda088e2-15e4-40ee-b1fb-23cdf3e11b87",
   "metadata": {},
   "source": [
    "### 2. Compute the z-score for each data point"
   ]
  },
  {
   "cell_type": "code",
   "execution_count": 54,
   "id": "e9a3bdb6-a9ab-468b-91cd-2d3ad78c1138",
   "metadata": {},
   "outputs": [],
   "source": [
    "# identify outliers based on z-score\n",
    "\n",
    "z_score_threshold = 3\n",
    "outliers_z = df[(df['z_score'].abs() > z_score_threshold)]"
   ]
  },
  {
   "cell_type": "markdown",
   "id": "bf25a214-facf-4e6c-99b9-3df39f3e6287",
   "metadata": {},
   "source": [
    "### 3. Identify and filter out the data points with z-scores greater than 3 or less than -3"
   ]
  },
  {
   "cell_type": "code",
   "execution_count": 61,
   "id": "ef2b1f1b-b94f-42c5-9c99-db1a9e4729bf",
   "metadata": {},
   "outputs": [
    {
     "name": "stdout",
     "output_type": "stream",
     "text": [
      "Number of outliers detected using z-scores: 20\n",
      "Data after removing outliers using z-scores\n",
      "(871, 13)\n"
     ]
    }
   ],
   "source": [
    "# filter out the outlier\n",
    "\n",
    "df_filtered_z = df[(df['z_score'].abs() <= z_score_threshold)]\n",
    "\n",
    "print(\"Number of outliers detected using z-scores:\", len(outliers_z))\n",
    "print(\"Data after removing outliers using z-scores\")\n",
    "print(df_filtered_z.shape)"
   ]
  },
  {
   "cell_type": "markdown",
   "id": "c839d115-4e46-41dd-b06d-298279154bc5",
   "metadata": {},
   "source": [
    "# Imputation"
   ]
  },
  {
   "cell_type": "markdown",
   "id": "fe01750b-5088-403d-af67-6f1d983b1ec9",
   "metadata": {},
   "source": [
    "## A. Simple Imputation"
   ]
  },
  {
   "cell_type": "markdown",
   "id": "b166318d-2765-4825-bf87-8a96e4f58cf9",
   "metadata": {},
   "source": [
    "### 1. Identify theh column with missing values "
   ]
  },
  {
   "cell_type": "code",
   "execution_count": 67,
   "id": "e470e02a-59b8-4043-b68b-dfbcacaa23c1",
   "metadata": {},
   "outputs": [
    {
     "name": "stdout",
     "output_type": "stream",
     "text": [
      "PassengerId      0\n",
      "Survived         0\n",
      "Pclass           0\n",
      "Name             0\n",
      "Sex              0\n",
      "Age            177\n",
      "SibSp            0\n",
      "Parch            0\n",
      "Ticket           0\n",
      "Fare             0\n",
      "Cabin          687\n",
      "Embarked         2\n",
      "z_score          0\n",
      "dtype: int64\n"
     ]
    }
   ],
   "source": [
    "# display the number of missing values in each column\n",
    "\n",
    "print(df.isnull().sum())"
   ]
  },
  {
   "cell_type": "markdown",
   "id": "0b5f65ab-6daf-4114-8cdc-9baef5370c1b",
   "metadata": {},
   "source": [
    "### 2. Replace missing values with the mean, median, or mode of the column"
   ]
  },
  {
   "cell_type": "code",
   "execution_count": 69,
   "id": "5e49a345-3c6c-43ae-9274-395503526943",
   "metadata": {},
   "outputs": [
    {
     "name": "stdout",
     "output_type": "stream",
     "text": [
      "Number of missing values after imputation\n",
      "PassengerId      0\n",
      "Survived         0\n",
      "Pclass           0\n",
      "Name             0\n",
      "Sex              0\n",
      "Age              0\n",
      "SibSp            0\n",
      "Parch            0\n",
      "Ticket           0\n",
      "Fare             0\n",
      "Cabin          687\n",
      "Embarked         2\n",
      "z_score          0\n",
      "dtype: int64\n"
     ]
    },
    {
     "name": "stderr",
     "output_type": "stream",
     "text": [
      "C:\\Users\\TOSHIBA\\AppData\\Local\\Temp\\ipykernel_11892\\1067696348.py:3: FutureWarning: A value is trying to be set on a copy of a DataFrame or Series through chained assignment using an inplace method.\n",
      "The behavior will change in pandas 3.0. This inplace method will never work because the intermediate object on which we are setting values always behaves as a copy.\n",
      "\n",
      "For example, when doing 'df[col].method(value, inplace=True)', try using 'df.method({col: value}, inplace=True)' or df[col] = df[col].method(value) instead, to perform the operation inplace on the original object.\n",
      "\n",
      "\n",
      "  df['Age'].fillna(df['Age'].median(), inplace=True)\n"
     ]
    }
   ],
   "source": [
    "# fill missing values in 'age' with the median age\n",
    "\n",
    "df['Age'].fillna(df['Age'].median(), inplace=True)\n",
    "\n",
    "# Check if the missing values have been filled\n",
    "\n",
    "print(\"Number of missing values after imputation\")\n",
    "print(df.isnull().sum())"
   ]
  },
  {
   "cell_type": "markdown",
   "id": "9604d30a-b9a4-4cd7-be44-028c1f7f2a3b",
   "metadata": {},
   "source": [
    "## B. Advance Imputation using KNN"
   ]
  },
  {
   "cell_type": "markdown",
   "id": "37dd849c-cb1f-44fa-9a74-2238a7342483",
   "metadata": {},
   "source": [
    "### 1. Select the column relevant for imputation"
   ]
  },
  {
   "cell_type": "code",
   "execution_count": 113,
   "id": "b87d8d75-8aed-4b7b-bc63-4b92d6ce0f2c",
   "metadata": {},
   "outputs": [],
   "source": [
    "# select relevant column for imputation\n",
    "df_impute = df[['Age', 'Pclass', 'SibSp', 'Parch', 'Fare']]"
   ]
  },
  {
   "cell_type": "markdown",
   "id": "4ccbde1c-a7cf-43a7-9b54-8c2938da71fd",
   "metadata": {},
   "source": [
    "# Transformation"
   ]
  },
  {
   "cell_type": "markdown",
   "id": "e6f02869-ff32-47cb-a0c6-809366cd8d0b",
   "metadata": {},
   "source": [
    "## A. Log Transformation"
   ]
  },
  {
   "cell_type": "markdown",
   "id": "c434a5cc-823e-4a7d-88bd-7e9eecc7b935",
   "metadata": {},
   "source": [
    "### 1. Identify the skewed column in the dataset"
   ]
  },
  {
   "cell_type": "code",
   "execution_count": 94,
   "id": "9d8a6584-6c29-4447-add1-4fbb09fd8930",
   "metadata": {},
   "outputs": [
    {
     "data": {
      "text/plain": [
       "Text(0, 0.5, 'Frequency')"
      ]
     },
     "execution_count": 94,
     "metadata": {},
     "output_type": "execute_result"
    },
    {
     "data": {
      "image/png": "[encoded data removed]",
      "text/plain": [
       "<Figure size 800x400 with 1 Axes>"
      ]
     },
     "metadata": {},
     "output_type": "display_data"
    }
   ],
   "source": [
    "# Display the distribution of the 'Fare' column before transformation\n",
    "plt.figure(figsize = (8, 4))\n",
    "plt.subplot(1, 2, 1)\n",
    "plt.hist(df['Fare'], bins = 50, color = 'red', alpha = 0.7)\n",
    "plt.title('Before log transformation')\n",
    "plt.xlabel('Fare')\n",
    "plt.ylabel('Frequency')"
   ]
  },
  {
   "cell_type": "markdown",
   "id": "58cb366e-bb41-4826-9bbc-29aae9e978d6",
   "metadata": {},
   "source": [
    "### 2. Apply log transformation to the column"
   ]
  },
  {
   "cell_type": "code",
   "execution_count": 99,
   "id": "ad41aa00-66bf-492f-969c-fb7128be1683",
   "metadata": {},
   "outputs": [
    {
     "data": {
      "text/plain": [
       "Text(0, 0.5, 'Frequency')"
      ]
     },
     "execution_count": 99,
     "metadata": {},
     "output_type": "execute_result"
    },
    {
     "data": {
      "image/png": "[encoded data removed]",
      "text/plain": [
       "<Figure size 800x400 with 1 Axes>"
      ]
     },
     "metadata": {},
     "output_type": "display_data"
    }
   ],
   "source": [
    "# Apply log transformation (adding 1 to avoid log(0))\n",
    "df['Fare_log'] = np.log(df['Fare'] + 1)\n",
    "\n",
    "# Display the distribution of the 'Fare' column after transformation\n",
    "plt.figure(figsize = (8, 4))\n",
    "plt.subplot(1, 2, 2)\n",
    "plt.hist(df['Fare_log'], bins = 50, color = 'green', alpha = 0.7)\n",
    "plt.title('After log transformation')\n",
    "plt.xlabel('Fare (Log)')\n",
    "plt.ylabel('Frequency')"
   ]
  },
  {
   "cell_type": "markdown",
   "id": "14706c26-b9f7-4fe5-a2bc-ae6d2f2ab15e",
   "metadata": {},
   "source": [
    "## B. Box-Cox Transformation"
   ]
  },
  {
   "cell_type": "markdown",
   "id": "ec316d16-fa6a-4d54-b6d3-a0504ab4f22c",
   "metadata": {},
   "source": [
    "### 1. Identify the skewed column in the dataset"
   ]
  },
  {
   "cell_type": "code",
   "execution_count": 104,
   "id": "d03f2c53-6628-419d-9ac6-0107b21e60d1",
   "metadata": {},
   "outputs": [
    {
     "data": {
      "text/plain": [
       "Text(0, 0.5, 'Frequency')"
      ]
     },
     "execution_count": 104,
     "metadata": {},
     "output_type": "execute_result"
    },
    {
     "data": {
      "image/png": "[encoded data removed]",
      "text/plain": [
       "<Figure size 800x400 with 1 Axes>"
      ]
     },
     "metadata": {},
     "output_type": "display_data"
    }
   ],
   "source": [
    "# Apply log transformation (adding 1 to avoid log(0))\n",
    "df['Fare_boxcox'], fitted_lambda = boxcox(df['Fare'] + 1)\n",
    "\n",
    "# Display the distribution of the 'Fare' column after transformation\n",
    "plt.figure(figsize = (8, 4))\n",
    "plt.subplot(1, 2, 1)\n",
    "plt.hist(df['Fare'], bins = 50, color = 'blue', alpha = 0.7)\n",
    "plt.title('Before Box-Cox transformation')\n",
    "plt.xlabel('Fare')\n",
    "plt.ylabel('Frequency')"
   ]
  },
  {
   "cell_type": "markdown",
   "id": "f6f27492-8b2a-4dfd-81d4-3048adf6e964",
   "metadata": {},
   "source": [
    "### 2. Apply the box-cox transformation to the column"
   ]
  },
  {
   "cell_type": "code",
   "execution_count": 107,
   "id": "847920a7-a00c-4f53-8656-96e6beecb871",
   "metadata": {},
   "outputs": [
    {
     "data": {
      "image/png": "[encoded data removed]",
      "text/plain": [
       "<Figure size 800x400 with 1 Axes>"
      ]
     },
     "metadata": {},
     "output_type": "display_data"
    }
   ],
   "source": [
    "# Apply log transformation (adding 1 to avoid log(0))\n",
    "df['Fare_boxcox'], fitted_lambda = boxcox(df['Fare'] + 1)\n",
    "\n",
    "# Display the distribution of the 'Fare' column after transformation\n",
    "plt.figure(figsize = (8, 4))\n",
    "plt.subplot(1, 2, 2)\n",
    "plt.hist(df['Fare_boxcox'], bins = 50, color = 'yellow', alpha = 0.7)\n",
    "plt.title('After Box-Cox transformation')\n",
    "plt.xlabel('Fare (Box-Cox)')\n",
    "plt.ylabel('Frequency')\n",
    "plt.tight_layout()\n",
    "plt.show()"
   ]
  },
  {
   "cell_type": "markdown",
   "id": "1917c07a-8e75-4893-85bb-5d4776c57087",
   "metadata": {},
   "source": [
    "# - END -"
   ]
  }
 ],
 "metadata": {
  "kernelspec": {
   "display_name": "Python 3 (ipykernel)",
   "language": "python",
   "name": "python3"
  },
  "language_info": {
   "codemirror_mode": {
    "name": "ipython",
    "version": 3
   },
   "file_extension": ".py",
   "mimetype": "text/x-python",
   "name": "python",
   "nbconvert_exporter": "python",
   "pygments_lexer": "ipython3",
   "version": "3.12.4"
  }
 },
 "nbformat": 4,
 "nbformat_minor": 5
}
